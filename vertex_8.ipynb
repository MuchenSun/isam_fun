{
 "cells": [
  {
   "cell_type": "code",
   "execution_count": 2,
   "metadata": {},
   "outputs": [],
   "source": [
    "import jax\n",
    "import jax.numpy as np\n",
    "from jax import jacfwd, jacrev\n",
    "import matplotlib.pyplot as plt\n",
    "\n",
    "key = jax.random.PRNGKey(0)"
   ]
  },
  {
   "cell_type": "code",
   "execution_count": 3,
   "metadata": {},
   "outputs": [],
   "source": [
    "def fig_config():\n",
    "    fig, ax = plt.subplots(1, 1, figsize=(8., 8,))\n",
    "    ax.set_aspect('equal')\n",
    "    ax.set_xlim(-1.5, 3.5)\n",
    "    ax.set_ylim(-1.0, 4.0)\n",
    "    return fig, ax"
   ]
  },
  {
   "cell_type": "code",
   "execution_count": 4,
   "metadata": {},
   "outputs": [],
   "source": [
    "vert_gt = np.array([\n",
    "    [0.0, 0.0],\n",
    "    [np.sqrt(2), 0],\n",
    "    [np.sqrt(2) + 1, 1],\n",
    "    [np.sqrt(2) + 1, np.sqrt(2) + 1],\n",
    "    [np.sqrt(2), np.sqrt(2) + 2],\n",
    "    [0.0, np.sqrt(2) + 2],\n",
    "    [-1, np.sqrt(2) + 1],\n",
    "    [-1, 1]\n",
    "])"
   ]
  },
  {
   "cell_type": "code",
   "execution_count": 5,
   "metadata": {},
   "outputs": [
    {
     "data": {
      "image/png": "[encoded data removed]",
      "text/plain": [
       "<Figure size 576x576 with 1 Axes>"
      ]
     },
     "metadata": {
      "needs_background": "light"
     },
     "output_type": "display_data"
    }
   ],
   "source": [
    "fig, ax = fig_config()\n",
    "for vt in vert_gt:\n",
    "    ax.plot(vt[0], vt[1], linestyle='', marker='o', color='C0')"
   ]
  },
  {
   "cell_type": "code",
   "execution_count": 6,
   "metadata": {},
   "outputs": [],
   "source": [
    "edge_list = np.array([\n",
    "    [0, 1],\n",
    "    [1, 2],\n",
    "    [2, 3],\n",
    "    [3, 4],\n",
    "    [4, 5],\n",
    "    [5, 6],\n",
    "    [6, 7],\n",
    "    [7, 0],\n",
    "    [0, 5],\n",
    "    [1, 4],\n",
    "    [2, 7],\n",
    "    [3, 6]\n",
    "], dtype=int)"
   ]
  },
  {
   "cell_type": "code",
   "execution_count": 7,
   "metadata": {},
   "outputs": [
    {
     "data": {
      "text/plain": [
       "DeviceArray([[0.       , 0.       ],\n",
       "             [1.4142135, 0.       ]], dtype=float32)"
      ]
     },
     "execution_count": 7,
     "metadata": {},
     "output_type": "execute_result"
    }
   ],
   "source": [
    "vert_gt[edge_list[0]]"
   ]
  },
  {
   "cell_type": "code",
   "execution_count": 8,
   "metadata": {},
   "outputs": [
    {
     "data": {
      "image/png": "[encoded data removed]",
      "text/plain": [
       "<Figure size 576x576 with 1 Axes>"
      ]
     },
     "metadata": {
      "needs_background": "light"
     },
     "output_type": "display_data"
    }
   ],
   "source": [
    "fig, ax = fig_config()\n",
    "for ed in edge_list:\n",
    "    ax.plot(vert_gt[ed][:,0], vert_gt[ed][:,1], linestyle='-', color='C1')\n",
    "for vt in vert_gt:\n",
    "    ax.plot(vt[0], vt[1], linestyle='', marker='o', color='C0')\n",
    "plt.show()"
   ]
  },
  {
   "cell_type": "code",
   "execution_count": 9,
   "metadata": {
    "scrolled": false
   },
   "outputs": [
    {
     "name": "stdout",
     "output_type": "stream",
     "text": [
      "1.4142135\n",
      "1.4142135\n",
      "{'v1': DeviceArray([0.7071067, 0.7071067], dtype=float32), 'v2': DeviceArray([-0.7071067, -0.7071067], dtype=float32)}\n"
     ]
    }
   ],
   "source": [
    "def obs_func(v1, v2):\n",
    "    obs = np.linalg.norm(v1 - v2)\n",
    "    return obs\n",
    "\n",
    "obs_dict = lambda params: obs_func(params['v1'], params['v2'])\n",
    "obs_jac_dict = jacrev(obs_dict)\n",
    "\n",
    "print(obs_func(np.ones(2), np.zeros(2)))\n",
    "print(obs_dict({'v1': np.ones(2), 'v2': np.zeros(2)}))\n",
    "print(obs_jac_dict({'v1': np.ones(2), 'v2': np.ones(2) * 0.5}))"
   ]
  },
  {
   "cell_type": "code",
   "execution_count": 10,
   "metadata": {},
   "outputs": [
    {
     "data": {
      "text/plain": [
       "DeviceArray([1.3730451, 1.3730452, 1.3730452, 1.3730452, 1.3730451,\n",
       "             1.3730451, 1.3730452, 1.3730451, 3.3730452, 3.3730452,\n",
       "             3.3730452, 3.3730452], dtype=float32)"
      ]
     },
     "execution_count": 10,
     "metadata": {},
     "output_type": "execute_result"
    }
   ],
   "source": [
    "obs_list = []\n",
    "for ed in edge_list:\n",
    "    v1 = vert_gt[ed[0]]\n",
    "    v2 = vert_gt[ed[1]]\n",
    "    obs = obs_func(v1, v2) + jax.random.normal(key) * 0.2 # 0.2 is standard deviation\n",
    "    obs_list.append(obs)\n",
    "obs_list = np.array(obs_list)\n",
    "obs_list"
   ]
  },
  {
   "cell_type": "code",
   "execution_count": 11,
   "metadata": {},
   "outputs": [],
   "source": [
    "def objective(vertices):\n",
    "    v0 = vertices[0]\n",
    "    obj = (1 / 0.02) * np.linalg.norm(v0) ** 2\n",
    "    for i in range(obs_list.shape[0]):\n",
    "        obs = obs_list[i]\n",
    "        ed = edge_list[i]\n",
    "        vi = vertices[ed[0]]\n",
    "        vj = vertices[ed[1]]\n",
    "        obj += (1 / 0.2) * (obs - obs_func(vi, vj)) ** 2\n",
    "    return obj"
   ]
  },
  {
   "cell_type": "code",
   "execution_count": 12,
   "metadata": {},
   "outputs": [],
   "source": [
    "vert_k = vert_gt + jax.random.normal(key, vert_gt.shape) * 0.1"
   ]
  },
  {
   "cell_type": "code",
   "execution_count": 26,
   "metadata": {},
   "outputs": [],
   "source": [
    "def obs_jac_whole(vertices):\n",
    "    res = np.zeros((obs_list.shape[0]+1, vertices.shape[0] * vertices.shape[1]))\n",
    "    \n",
    "    v0 = vertices[0]\n",
    "    dobj_k = obs_jac_dict({'v1': v0, 'v2': np.zeros(2)})\n",
    "    res = jax.ops.index_update(res, jax.ops.index[0, 0:2], dobj_k['v1'])\n",
    "    \n",
    "    for k in range(obs_list.shape[0]):\n",
    "        ed = edge_list[k]\n",
    "        vi = vertices[ed[0]]\n",
    "        vj = vertices[ed[1]]\n",
    "        dobj_k = obs_jac_dict({'v1': vi, 'v2': vj})\n",
    "        \n",
    "        res = jax.ops.index_update(res, jax.ops.index[k+1, 2*ed[0]:2*ed[0]+2], dobj_k['v1'])\n",
    "        res = jax.ops.index_update(res, jax.ops.index[k+1, 2*ed[1]:2*ed[1]+2], dobj_k['v2'])\n",
    "        \n",
    "    return res"
   ]
  },
  {
   "cell_type": "code",
   "execution_count": 28,
   "metadata": {},
   "outputs": [
    {
     "name": "stdout",
     "output_type": "stream",
     "text": [
      "(13, 16)\n"
     ]
    },
    {
     "data": {
      "text/plain": [
       "<matplotlib.image.AxesImage at 0x7ff4890eaaf0>"
      ]
     },
     "execution_count": 28,
     "metadata": {},
     "output_type": "execute_result"
    },
    {
     "data": {
      "image/png": "[encoded data removed]",
      "text/plain": [
       "<Figure size 432x288 with 1 Axes>"
      ]
     },
     "metadata": {
      "needs_background": "light"
     },
     "output_type": "display_data"
    }
   ],
   "source": [
    "res = obs_jac_whole(vert_k)\n",
    "res_binary = (np.abs(res) > 0).astype(float)\n",
    "print(res.shape)\n",
    "plt.imshow(np.abs(res), aspect='equal')"
   ]
  },
  {
   "cell_type": "code",
   "execution_count": null,
   "metadata": {},
   "outputs": [],
   "source": []
  }
 ],
 "metadata": {
  "kernelspec": {
   "display_name": "Python 3",
   "language": "python",
   "name": "python3"
  },
  "language_info": {
   "codemirror_mode": {
    "name": "ipython",
    "version": 3
   },
   "file_extension": ".py",
   "mimetype": "text/x-python",
   "name": "python",
   "nbconvert_exporter": "python",
   "pygments_lexer": "ipython3",
   "version": "3.8.10"
  }
 },
 "nbformat": 4,
 "nbformat_minor": 4
}
